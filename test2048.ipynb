{
 "cells": [
  {
   "cell_type": "code",
   "execution_count": 22,
   "metadata": {
    "collapsed": true,
    "pycharm": {
     "name": "#%%\n"
    }
   },
   "outputs": [],
   "source": [
    "from gym_2048.envs import game2048_env\n",
    "import matplotlib.pyplot as plt"
   ]
  },
  {
   "cell_type": "code",
   "execution_count": 28,
   "outputs": [
    {
     "data": {
      "text/plain": "<module 'gym_2048.envs.game2048_env' from 'C:\\\\Users\\\\Arnoliu\\\\PycharmProjects\\\\gym-2048\\\\gym_2048\\\\envs\\\\game2048_env.py'>"
     },
     "execution_count": 28,
     "metadata": {},
     "output_type": "execute_result"
    }
   ],
   "source": [
    "import importlib\n",
    "importlib.reload(game2048_env)"
   ],
   "metadata": {
    "collapsed": false,
    "pycharm": {
     "name": "#%%\n"
    }
   }
  },
  {
   "cell_type": "code",
   "execution_count": 30,
   "outputs": [
    {
     "name": "stdout",
     "output_type": "stream",
     "text": [
      "Score: 4.0\n",
      "Highest: 4\n",
      "[[0 0 0 0]\n",
      " [0 0 0 0]\n",
      " [0 2 0 0]\n",
      " [0 0 4 0]]\n",
      "Score: 4.0\n",
      "Highest: 4\n",
      "[[0 0 0 0]\n",
      " [0 0 2 0]\n",
      " [0 0 0 0]\n",
      " [0 2 4 0]]\n",
      "Score: 4.0\n",
      "Highest: 4\n",
      "[[0 0 2 0]\n",
      " [2 0 0 0]\n",
      " [0 0 0 0]\n",
      " [2 4 0 0]]\n",
      "Score: 4.0\n",
      "Highest: 4\n",
      "[[2 0 4 0]\n",
      " [2 0 0 0]\n",
      " [0 0 0 0]\n",
      " [2 4 0 0]]\n",
      "Score: 4.0\n",
      "Highest: 4\n",
      "[[2 4 0 0]\n",
      " [2 0 0 0]\n",
      " [0 0 2 0]\n",
      " [2 4 0 0]]\n",
      "Score: 4.0\n",
      "Highest: 4\n",
      "[[2 4 0 0]\n",
      " [2 0 0 0]\n",
      " [2 0 0 2]\n",
      " [2 4 0 0]]\n",
      "Score: 8.0\n",
      "Highest: 4\n",
      "[[2 4 0 0]\n",
      " [2 0 0 0]\n",
      " [4 2 0 0]\n",
      " [2 4 0 0]]\n",
      "Score: 8.0\n",
      "Highest: 4\n",
      "[[0 0 2 4]\n",
      " [0 4 0 2]\n",
      " [0 0 4 2]\n",
      " [0 0 2 4]]\n",
      "Score: 8.0\n",
      "Highest: 4\n",
      "[[0 0 2 4]\n",
      " [0 2 4 2]\n",
      " [0 0 4 2]\n",
      " [0 0 2 4]]\n",
      "Score: 20.0\n",
      "Highest: 8\n",
      "[[0 2 2 4]\n",
      " [0 0 8 4]\n",
      " [0 0 2 4]\n",
      " [0 0 2 0]]\n"
     ]
    }
   ],
   "source": [
    "env = game2048_env.Game2048Env()\n",
    "observation = env.reset()\n",
    "# isGUI=True\n",
    "isGUI=False\n",
    "for _ in range(10):\n",
    "    action = env.action_space.sample()\n",
    "    observation, reward, terminated, info = env.step(action)\n",
    "    # observation is 4x4x16\n",
    "    # reward是这一步获得的分数\n",
    "    # info is {'illegal_move': False, 'highest': 8}\n",
    "    if isGUI:\n",
    "        npp=env.render(mode = 'rgb_array')\n",
    "        plt.imshow(npp)\n",
    "        plt.show()\n",
    "    else:\n",
    "        env.render()\n",
    "\n",
    "    if terminated:\n",
    "        observation = env.reset()\n",
    "env.close()"
   ],
   "metadata": {
    "collapsed": false,
    "pycharm": {
     "name": "#%%\n"
    }
   }
  }
 ],
 "metadata": {
  "kernelspec": {
   "display_name": "Python 3",
   "language": "python",
   "name": "python3"
  },
  "language_info": {
   "codemirror_mode": {
    "name": "ipython",
    "version": 2
   },
   "file_extension": ".py",
   "mimetype": "text/x-python",
   "name": "python",
   "nbconvert_exporter": "python",
   "pygments_lexer": "ipython2",
   "version": "2.7.6"
  }
 },
 "nbformat": 4,
 "nbformat_minor": 0
}